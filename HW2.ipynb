{
 "cells": [
  {
   "cell_type": "markdown",
   "metadata": {},
   "source": [
    "## Code submission\n",
    "\n",
    "If you would like to use Jupyter (perhaps the easiest way, this replaces the old IJuliaNotebook), just submit the notebook file. Name it as p(Homework#).ipynb.  For instance, for homework 1, name it as p1.ipynb. I suggest everyone use the latest version of Julia (current stable version **v0.7.0**. Please **DO NOT** use v1.0.0 **unless you know what you are doing**).  \n",
    "\n",
    "If you use MATLAB or Julia/Python (not the notebook), name your main program as p(Homework#)_(Problem#).m. For instance, for homework 1, problem 2, name it as p1_2.m (or p1_2.jl,p1_2.py). \n",
    "\n",
    "For proof-related problems, type your solution using **LaTeX (no other format is accepted)**. You do not need to write down every step of the derivation, but make sure the logic is clear.  \n",
    "\n",
    "For implementation based problems, the problem description may not include all the information for the answer to be uniquely defined. For instance, your answer might depend on the choice of the mesh size. This is OK.\n",
    "\n",
    "E-mail the codes above, and **any supporting files** for the homework to bCourses\n",
    "\n",
    "You can **either** name it as\n",
    "\n",
    "lastname_firstname_1.ipynb (if you **only** have a notebook file)\n",
    "\n",
    "**or**\n",
    "\n",
    "lastname_firstname_1.zip (if you have **more than one** files)"
   ]
  },
  {
   "cell_type": "markdown",
   "metadata": {},
   "source": [
    "## Problem 1\n",
    "\n",
    "Derive explicitly the four-step Adams-Moulton method."
   ]
  },
  {
   "cell_type": "markdown",
   "metadata": {},
   "source": []
  },
  {
   "cell_type": "markdown",
   "metadata": {},
   "source": [
    "## Problem 2\n",
    "\n",
    "The $r$-step Nystrom method is given as follows: Replace $f(u(t),t)$ in the exact formulation below\n",
    "\n",
    "$$u(t_{n+r})-u(t_{n+r-2}) = \\int_{t_{n+r-2}}^{t_{n+r}} f(u(t),t) dt$$\n",
    "\n",
    "by a Lagrange polynomial interpolating at $f_{n},\\ldots,f_{n+r}$, where $f_{n+s}\\equiv f(u_{n+s},t_{n+s})$. The explicit scheme similar to Adams-Bashforth method is called the Nystrom method.  The implicit scheme similar to Adams-Moulton method is called the Milne method.\n",
    "\n",
    "a) Derive the Nystrom method with $r=1$ and $r=2$. Prove that both result in the same method, and prove that this is a second order method.\n",
    "\n",
    "b) Derive the Milne method with $r=2$, and prove that this is a fourth order method.\n",
    "\n",
    "**NOTE**: For this problem you only need to show the LTE is of the correct order."
   ]
  },
  {
   "cell_type": "markdown",
   "metadata": {},
   "source": []
  },
  {
   "cell_type": "markdown",
   "metadata": {},
   "source": [
    "## Problem 3\n",
    "\n",
    "The Rabi oscillation in quantum physics can be modeled by the following ODEs\n",
    "$$\n",
    "\\begin{split}\n",
    "i\\partial_t u_1(t) &= \\Omega \\cos (\\omega t) u_2(t),\\\\\n",
    "i\\partial_t u_2(t) &= \\Omega_0 u_2(t) + \\Omega \\cos (\\omega t) u_1(t).\n",
    "\\end{split}\n",
    "$$\n",
    "\n",
    "This model describes the transition of an electron from state 1 to state 2 under an external electric field $\\mathcal{E}(t)=\\Omega \\cos(\\omega t)$. $u_1(t),u_2(t)\\in \\mathbb{C}$, and $\\Omega_0$ is the energy gap between the two states.\n",
    "\n",
    "\n",
    "Given Initial condition $u_1(0)=1,u_2(0)=0$, and $\\Omega_0=2\\pi,\\Omega=1.0$.  Write the 4th order Runge-Kutta method (rk4) which returns the full trajectory of the two components of $u$ as $u[1,:]$ and $u[2,:]$.\n",
    "\n",
    "a) Use RK4 scheme with $\\Delta t = 0.1$ to solve this equation and plot out the trajectory of $|u_1(t)|^2$,$|u_2(t)|^2$ on the interval $[0,10\\pi]$ for $\\omega=\\pi$. Do the same calculation for $\\omega=2\\pi$ and you should observe the resonance behavior (i.e. $|u_2|$ can reach 1.0 at some t).\n",
    "\n",
    "b) Derive that $A(t)=|u_1(t)|^2+|u_2(t)|^2$ is a conserved quantity and plot $A(t)$ obtained from the RK4 scheme. Observe that you can improve on the accuracy of the conservation of $A(t)$ by choosing a smaller time step.\n",
    "\n"
   ]
  },
  {
   "cell_type": "code",
   "execution_count": null,
   "metadata": {
    "collapsed": true
   },
   "outputs": [],
   "source": [
    "using LinearAlgebra \n",
    "\n",
    "function func(u,t,Omega,Omega0,w)\n",
    "\n",
    "end\n",
    "\n",
    "function rk4(N,T,u0,Omega,Omega0,w)\n",
    "\n",
    "end\n",
    "\n",
    "\n",
    "\n",
    "using PyPlot\n",
    "\n",
    "##############################\n",
    "T = 10.0*pi\n",
    "dt = 0.1\n",
    "N = round(Int64,T/dt)\n",
    "t = collect(0:N)*dt\n",
    "Omega = 1.0\n",
    "Omega0 = 2*pi\n",
    "w = pi\n",
    "u0 = [1.0,0.0]\n",
    "\n",
    "# RK4\n",
    "u = rk4(N,T,u0,Omega,Omega0,w)\n",
    "\n",
    "\n",
    "figure(1,figsize=(5,5))\n",
    "plot(t,vec(abs.(u[1,:]).^2),\"r-\",label=L\"|u_1|^2\")\n",
    "plot(t,vec(abs.(u[2,:]).^2),\"b-\",label=L\"|u_2|^2\")\n",
    "xlabel(\"t\")\n",
    "legend()\n",
    "title(L\"rk4,\\Delta t=0.1,\\omega=\\pi\")\n",
    "figure(2,figsize=(5,5))\n",
    "plot(t,vec(abs.(u[1,:]).^2+abs.(u[2,:]).^2),\"b-\",label=L\"$|u_1|^2+|u_2|^2$\")\n",
    "xlabel(\"t\")\n",
    "title(L\"rk4,\\Delta t=0.1,\\omega=\\pi\")\n",
    "legend()\n"
   ]
  },
  {
   "cell_type": "markdown",
   "metadata": {},
   "source": [
    "## Problem 4\n",
    "\n",
    "\n",
    "Consider the heat equation in 1D with periodic boundary conditions\n",
    "\n",
    "$$u_t(x,t) = u_{xx}(x,t),\\quad x\\in [0,2\\pi],$$\n",
    "\n",
    "$$u(x,0)=e^{-5(x-\\pi)^2}, \\quad u(0,t)=u(2\\pi,t), u_x(0,t)=u_x(2\\pi,t)$$\n",
    "\n",
    "Here $\\varepsilon = 1.0$. Use the central finite difference scheme to discretize $u_{xx}(x,t)$, with a uniform grid spacing $\\Delta x=2\\pi/100$, i.e.\n",
    "\n",
    "$$u_{xx}(x_i,t_n)\\approx \\frac{u(x_i+\\Delta x,t_n)-2u(x_i,t_n)+u(x_i-\\Delta x,t_n)}{\\Delta x^2}.$$\n",
    "\n",
    "\n",
    "\n",
    "Obtain the solution $u(x,T)$ at $T=1.0$ using the following methods.\n",
    "\n",
    "a) Implement a `ForwardEuler` method, using the forward Euler for time discretization and $h =0.001$. What would happen if you use a time step $h=0.01$?\n",
    "\n",
    "b) Implement a `Trapezoid` method, using a trapezoidal rule for time discretization and use $h=0.1$. Since the equation is linear, you can solve a linear equation to treat this implicit scheme. Think about why the trapezoid method can use a much larger time step.\n",
    "\n",
    "c) Implement a `TrapezoidAB2` method, which uses an adaptive time stepping strategy (with the \"Milne device\") propagated by the trapezoidal rule, with its error estimated on-the-fly from the Adams-Bashforth 2nd order scheme.  The initial time step is $h=0.001$. Plot out the history of the size step along the history of the simulation. \n",
    "\n",
    "Read [Ise] Chap 6.2 if needed for more information. Some \"sloppiness\" in the interpolation procedure can be tolerated if it makes the implementation easier.\n",
    "\n",
    "**Note**: You should implement this example using **sparse matrices** whenever possible. See \n",
    "\n",
    "https://docs.julialang.org/en/v1/stdlib/SparseArrays/index.html\n",
    "\n",
    "for references on sparse linear algebra.\n"
   ]
  },
  {
   "cell_type": "code",
   "execution_count": null,
   "metadata": {
    "collapsed": true
   },
   "outputs": [],
   "source": [
    "using SparseArrays\n"
   ]
  }
 ],
 "metadata": {
  "kernelspec": {
   "display_name": "Julia 0.7.0",
   "language": "julia",
   "name": "julia-0.7"
  },
  "language_info": {
   "file_extension": ".jl",
   "mimetype": "application/julia",
   "name": "julia",
   "version": "0.7.0"
  }
 },
 "nbformat": 4,
 "nbformat_minor": 1
}
