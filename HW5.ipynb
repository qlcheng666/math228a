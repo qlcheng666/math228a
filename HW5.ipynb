{
 "cells": [
  {
   "cell_type": "markdown",
   "metadata": {},
   "source": [
    "## Code submission\n",
    "\n",
    "If you would like to use Jupyter (perhaps the easiest way, this replaces the old IJuliaNotebook), just submit the notebook file. Name it as p(Homework#).ipynb.  For instance, for homework 1, name it as p1.ipynb. I suggest everyone use the latest version of Julia (current stable version **v0.7.0**. Please **DO NOT** use v1.0.0 **unless you know what you are doing**).  \n",
    "\n",
    "If you use MATLAB or Julia/Python (not the notebook), name your main program as p(Homework#)_(Problem#).m. For instance, for homework 1, problem 2, name it as p1_2.m (or p1_2.jl,p1_2.py). \n",
    "\n",
    "For proof-related problems, type your solution using **LaTeX (no other format is accepted)**. You do not need to write down every step of the derivation, but make sure the logic is clear.  \n",
    "\n",
    "For implementation based problems, the problem description may not include all the information for the answer to be uniquely defined. For instance, your answer might depend on the choice of the mesh size. This is OK.\n",
    "\n",
    "E-mail the codes above, and **any supporting files** for the homework to bCourses\n",
    "\n",
    "You can **either** name it as\n",
    "\n",
    "lastname_firstname_1.ipynb (if you **only** have a notebook file)\n",
    "\n",
    "**or**\n",
    "\n",
    "lastname_firstname_1.zip (if you have **more than one** files)"
   ]
  },
  {
   "cell_type": "markdown",
   "metadata": {},
   "source": [
    "## Problem 1\n",
    "\n",
    "Consider reaction-diffusion equation with periodic boundary condition\n",
    "\n",
    "$$u_t(x,t) = u_{xx}(x,t) + \\varepsilon u^2,\\quad x\\in [0,2\\pi],$$\n",
    "\n",
    "$$u(x,0)=e^{-5(x-\\pi)^2}, \\quad u(0,t)=u(2\\pi,t), u_x(0,t)=u_x(2\\pi,t).$$\n",
    "\n",
    "Here $\\varepsilon = 1.0$. Use second order finite difference discretization with uniform grid spacing $\\Delta x=2\\pi/100$.\n",
    "\n",
    "Obtain the solution $u(x,T)$ at $T=6.0$ using the following methods.\n",
    "\n",
    "a) Implement a `ForwardEuler` method, using the forward Euler for time discretization and $\\Delta t=0.001$.\n",
    "\n",
    "b) Implement a `CNBroyden` method, using a trapezoidal rule for time discretization and $\\Delta t = 0.1$. This is also called the Crank-Nicolson method. Use any type of Broyden's method to solve the nonlinear equation. The starting guess for Broyden's matrix can be chosen as $B_0=\\alpha I$, $\\alpha=0.05$. Plot the number of iterations of Broyden's method for each step to reach certain stopping criterion (say $10^{-8}$)."
   ]
  },
  {
   "cell_type": "code",
   "execution_count": null,
   "metadata": {
    "collapsed": true
   },
   "outputs": [],
   "source": [
    "using LinearAlgebra\n",
    "using SparseArrays\n",
    "\n",
    "function ForwardEuler(N,T,u0,A,epsil)\n",
    "\n",
    "end\n",
    "\n",
    "\n",
    "\n",
    "using PyPlot\n",
    "figure(1,figsize=(5,5))\n",
    "plot(xs,vec(uForwardEuler[:,1]),\"b-\")\n",
    "plot(xs,vec(uForwardEuler[:,N]),\"r-\")\n",
    "\n"
   ]
  },
  {
   "cell_type": "code",
   "execution_count": null,
   "metadata": {
    "collapsed": true
   },
   "outputs": [],
   "source": [
    "function CNBroyden(N,T,u0,A,epsil,alpha,maxIter)\n",
    "\n",
    "end\n",
    "\n",
    "\n",
    "\n",
    "using PyPlot\n",
    "figure(1,figsize=(5,5))\n",
    "plot(xs,vec(uCNBroyden[:,1]),\"b-\")\n",
    "plot(xs,vec(uCNBroyden[:,N]),\"r-\")\n",
    "\n",
    "figure(2,figsize=(5,5))\n",
    "plot(t[1:N],Niter,\"b-o\")"
   ]
  },
  {
   "cell_type": "markdown",
   "metadata": {},
   "source": [
    "## Problem 2\n",
    "\n",
    "Use the five-point finite difference formula and solve \n",
    "\n",
    "$$-\\Delta u(x,y) = 1, \\quad u\\vert_{\\partial \\Omega} = 0,$$\n",
    "\n",
    "on a $L$-shaped domain (see below, blue shaded region)\n",
    "\n",
    "$$\\Omega=((0,1)\\times(0,1)) \\backslash ([1/2,1]\\times[1/2,1]).$$\n",
    "\n",
    "Use a grid spacing $h=1/(N+1)$ and $N=200$. \n",
    "\n",
    "1) Write a function `FDLshape` which returns $X,Y,U$, so that $U_{i,j}$ is the approximate solution for $u(X[i,j],Y[i,j])$. If $(X[i,j],Y[i,j])$ is not in $\\Omega$, $U_{i,j}=0$. Plot the solution $U$. You can solve the equation using the backslash directly.\n",
    "\n",
    "2) Write a function `FDLshapeCG` which does the same job, but uses the conjugate gradient solver to solve the linear system and get the same result. You should write your own CG solver instead of using external packages."
   ]
  },
  {
   "cell_type": "code",
   "execution_count": 1,
   "metadata": {},
   "outputs": [
    {
     "name": "stderr",
     "output_type": "stream",
     "text": [
      "┌ Info: Recompiling stale cache file /home/lin/.julia/compiled/v0.7/PyPlot/oatAj.ji for PyPlot [d330b81b-6aea-500a-939a-2ce795aea3ee]\n",
      "└ @ Base loading.jl:1185\n",
      "┌ Warning: Module Compat with build ID 1634148673862848 is missing from the cache.\n",
      "│ This may mean Compat [34da2185-b29b-5c13-b0c7-acf172513d20] does not support precompilation but is imported by a module that does.\n",
      "└ @ Base loading.jl:941\n",
      "┌ Warning: Module Compat with build ID 1634148673862848 is missing from the cache.\n",
      "│ This may mean Compat [34da2185-b29b-5c13-b0c7-acf172513d20] does not support precompilation but is imported by a module that does.\n",
      "└ @ Base loading.jl:941\n",
      "┌ Info: Precompiling PyCall [438e738f-606a-5dbb-bf0a-cddfbfd45ab0]\n",
      "└ @ Base loading.jl:1187\n",
      "┌ Warning: Module Compat with build ID 1634148673862848 is missing from the cache.\n",
      "│ This may mean Compat [34da2185-b29b-5c13-b0c7-acf172513d20] does not support precompilation but is imported by a module that does.\n",
      "└ @ Base loading.jl:941\n",
      "┌ Info: Recompiling stale cache file /home/lin/.julia/compiled/v0.7/VersionParsing/VBbTm.ji for VersionParsing [81def892-9a0e-5fdd-b105-ffc91e053289]\n",
      "└ @ Base loading.jl:1185\n",
      "┌ Warning: Module Compat with build ID 1634148673862848 is missing from the cache.\n",
      "│ This may mean Compat [34da2185-b29b-5c13-b0c7-acf172513d20] does not support precompilation but is imported by a module that does.\n",
      "└ @ Base loading.jl:941\n",
      "┌ Info: Recompiling stale cache file /home/lin/.julia/compiled/v0.7/Conda/WZE3U.ji for Conda [8f4d0f93-b110-5947-807f-2305c1781a2d]\n",
      "└ @ Base loading.jl:1185\n",
      "┌ Warning: Module Compat with build ID 1634148673862848 is missing from the cache.\n",
      "│ This may mean Compat [34da2185-b29b-5c13-b0c7-acf172513d20] does not support precompilation but is imported by a module that does.\n",
      "└ @ Base loading.jl:941\n",
      "┌ Info: Recompiling stale cache file /home/lin/.julia/compiled/v0.7/MacroTools/38lnR.ji for MacroTools [1914dd2f-81c6-5fcd-8719-6d5c9610ff09]\n",
      "└ @ Base loading.jl:1185\n",
      "┌ Warning: Module Compat with build ID 1634148673862848 is missing from the cache.\n",
      "│ This may mean Compat [34da2185-b29b-5c13-b0c7-acf172513d20] does not support precompilation but is imported by a module that does.\n",
      "└ @ Base loading.jl:941\n",
      "┌ Info: Recompiling stale cache file /home/lin/.julia/compiled/v0.7/LaTeXStrings/H4HGh.ji for LaTeXStrings [b964fa9f-0449-5b57-a5c2-d3ea65f4040f]\n",
      "└ @ Base loading.jl:1185\n"
     ]
    },
    {
     "data": {
      "image/png": "[encoded data removed]",
      "text/plain": [
       "Figure(PyObject <Figure size 400x400 with 1 Axes>)"
      ]
     },
     "metadata": {},
     "output_type": "display_data"
    },
    {
     "name": "stderr",
     "output_type": "stream",
     "text": [
      "┌ Warning: Module Compat with build ID 1634148673862848 is missing from the cache.\n",
      "│ This may mean Compat [34da2185-b29b-5c13-b0c7-acf172513d20] does not support precompilation but is imported by a module that does.\n",
      "└ @ Base loading.jl:941\n"
     ]
    },
    {
     "ename": "MethodError",
     "evalue": "MethodError: Cannot `convert` an object of type PyCall.PyObject to an object of type PyCall.PyObject\nThe applicable method may be too new: running in world age 27731, while current world is 29330.\nClosest candidates are:\n  convert(::Type{PyCall.PyObject}, ::PyCall.PyObject) at /home/lin/.julia/packages/PyCall/k8esQ/src/PyCall.jl:166 (method too new to be called from this world context.)\n  convert(::Type{PyCall.PyObject}, ::Any) at /home/lin/.julia/packages/PyCall/k8esQ/src/PyCall.jl:165 (method too new to be called from this world context.)\n  convert(::Type{T}, ::T) where T at essentials.jl:154\n  ...",
     "output_type": "error",
     "traceback": [
      "MethodError: Cannot `convert` an object of type PyCall.PyObject to an object of type PyCall.PyObject\nThe applicable method may be too new: running in world age 27731, while current world is 29330.\nClosest candidates are:\n  convert(::Type{PyCall.PyObject}, ::PyCall.PyObject) at /home/lin/.julia/packages/PyCall/k8esQ/src/PyCall.jl:166 (method too new to be called from this world context.)\n  convert(::Type{PyCall.PyObject}, ::Any) at /home/lin/.julia/packages/PyCall/k8esQ/src/PyCall.jl:165 (method too new to be called from this world context.)\n  convert(::Type{T}, ::T) where T at essentials.jl:154\n  ...",
      "",
      "Stacktrace:",
      " [1] Base.Fix2(::typeof(isequal), ::PyCall.PyObject) at ./operators.jl:883",
      " [2] isequal(::PyCall.PyObject) at ./operators.jl:898",
      " [3] undisplay(::PyCall.PyObject) at /home/lin/.julia/packages/IJulia/k5o7j/src/execute_request.jl:63",
      " [4] execute_request(::ZMQ.Socket, ::IJulia.Msg) at /home/lin/.julia/packages/IJulia/k5o7j/src/execute_request.jl:188",
      " [5] #invokelatest#1 at ./essentials.jl:691 [inlined]",
      " [6] invokelatest at ./essentials.jl:690 [inlined]",
      " [7] eventloop(::ZMQ.Socket) at /home/lin/.julia/packages/IJulia/k5o7j/src/eventloop.jl:8",
      " [8] (::getfield(IJulia, Symbol(\"##12#15\")))() at ./task.jl:262"
     ]
    }
   ],
   "source": [
    "function ndgrid(v1::AbstractVector{T}, v2::AbstractVector{T}) where T\n",
    "    m, n = length(v1), length(v2)\n",
    "    v1 = reshape(v1, m, 1)\n",
    "    v2 = reshape(v2, 1, n)\n",
    "    (repeat(v1, 1, n), repeat(v2, m, 1))\n",
    "end\n",
    "\n",
    "x1d=LinRange(0,1,100)\n",
    "X,Y=ndgrid(x1d,x1d)\n",
    "Z=zeros(size(X))\n",
    "for j = 1 : prod(size(X))\n",
    "    if(X[j]>=0.5 && Y[j]>=0.5)\n",
    "        Z[j] = 1.0\n",
    "    else\n",
    "        Z[j] = 0.0\n",
    "    end\n",
    "end\n",
    "\n",
    "using PyPlot\n",
    "figure(1,figsize=(4,4))\n",
    "contourf(X,Y,Z,[0.00,0.99,1.01],colors=(\"b\",\"w\"))\n",
    "title(L\"\\Omega\")"
   ]
  },
  {
   "cell_type": "code",
   "execution_count": null,
   "metadata": {},
   "outputs": [],
   "source": []
  },
  {
   "cell_type": "code",
   "execution_count": null,
   "metadata": {
    "collapsed": true
   },
   "outputs": [],
   "source": [
    "function FDLShape(L,N)\n",
    "\n",
    "    return X,Y,U\n",
    "end\n",
    "\n",
    "X,Y,U = FDLShape(1.0,200)\n",
    "h=figure(1,figsize=(5,5))\n",
    "ax=Axes3D(h)\n",
    "surf(X,Y,U,edgecolors=\"none\",cmap=ColorMap(\"jet\"),shade=\"true\")\n",
    "ax[:view_init](elev=30.0,azim=120.0)\n",
    "xlabel(L\"x\")\n",
    "ylabel(L\"y\")\n",
    "zlabel(L\"z\")\n"
   ]
  },
  {
   "cell_type": "code",
   "execution_count": null,
   "metadata": {
    "collapsed": true
   },
   "outputs": [],
   "source": [
    "# Conjugate gradient solver\n",
    "\n",
    "function CG(A,b,x0,tol=1e-5,maxit=1000)\n",
    "\n",
    "    return x\n",
    "end\n",
    "\n",
    "\n",
    "function FDLShapeCG(L,N)\n",
    "\n",
    "    return X,Y,U\n",
    "end\n",
    "\n",
    "X,Y,UCG = FDLShapeCG(1.0,200)\n",
    "h=figure(1,figsize=(5,5))\n",
    "ax=Axes3D(h)\n",
    "surf(X,Y,UCG,edgecolors=\"none\",cmap=ColorMap(\"jet\"),shade=\"true\")\n",
    "ax[:view_init](elev=30.0,azim=120.0)\n",
    "xlabel(L\"x\")\n",
    "ylabel(L\"y\")\n",
    "zlabel(L\"z\")\n",
    "\n",
    "\n",
    "h=figure(2,figsize=(5,5))\n",
    "ax=Axes3D(h)\n",
    "surf(X,Y,U-UCG,edgecolors=\"none\",cmap=ColorMap(\"jet\"),shade=\"true\")\n",
    "ax[:view_init](elev=30.0,azim=120.0)\n",
    "xlabel(L\"x\")\n",
    "ylabel(L\"y\")\n",
    "zlabel(L\"z\")\n"
   ]
  },
  {
   "cell_type": "markdown",
   "metadata": {},
   "source": [
    "## Problem 3\n",
    "\n",
    "Consider a matrix $A\\in \\mathbb{R}^{N\\times N}$. $A$ is diagonalizable with only two distinct eigenvalues $\\pm 1$. Prove that for any right hand side $b$ and initial guess $x_0$, GMRES solves the equation $Ax=b$ with at most 2 iterations."
   ]
  },
  {
   "cell_type": "markdown",
   "metadata": {},
   "source": []
  },
  {
   "cell_type": "markdown",
   "metadata": {},
   "source": [
    "## Problem 4\n",
    "\n",
    "The nonlinear Schrodinger equation in 1D\n",
    "\n",
    "$$\\imath \\partial_t u(x,t) = -\\partial_{xx} u(x,t)+\\beta \\vert u(x,t)\\vert^2 u(x,t), \\quad x\\in \\mathbb{R}$$\n",
    "\n",
    "has an exact solution  \n",
    "\n",
    "$$\\psi_{exact}(x,t) = \\frac{2a}{\\beta} \\text{sech}\\left[\\sqrt{a}(x-x_0-ct)\\right] \\exp\\left[\\imath \\frac{c}{2}(x-x_0)-\\imath\\left(\\frac{c^2}{4}-a\\right)t\\right].$$\n",
    "\n",
    "Here we choose the parameter\n",
    "\n",
    "$\\beta=-8.0,a=\\beta^2/16,c=0.5,x_0=-3.0$.\n",
    "\n",
    "\n",
    "Solve this problem on a finite sized domain $[-L/2,L/2]$ with $L=20$ and periodic boundary condition. Use the central finite difference scheme for spatial discretization. \n",
    "\n",
    "(1) Write a routine `rk4` to compute the solution at $T_f=1.0$ using the RK4 method. You need to choose the grid size (spatial and temporal) so that the maximum absolute error of the solution (by comparing to the exact solution) is less than $10^{-3}$.\n",
    "\n",
    "(2) Write a routine `IMEX` to do the same thing with the IMEX method, where the implicit scheme is chosen to be the trapezoidal rule, and the explicit scheme is AB2.  If there is a linear system to be solved, use GMRES to solve the linear system."
   ]
  },
  {
   "cell_type": "code",
   "execution_count": null,
   "metadata": {},
   "outputs": [],
   "source": [
    "function rk4(NT,T,u0,Lap,β)\n",
    "    return u\n",
    "end\n",
    "\n",
    "psiexact_func(x,t) = 2.0*a/β * sech(sqrt(a)*(x-x0-c*t)) * exp(im*(c/2.0*(x-x0)-(c^2/4.0-a)*t))\n",
    "\n",
    "@. psi0 = psiexact_func(xs,0.0)\n",
    "\n",
    "NT = 10000\n",
    "Tf = 1.0\n",
    "psi = rk4(NT,Tf,psi0,Lap,β)\n",
    "@. psiexact = psiexact_func(xs,Tf)\n",
    "\n",
    "using PyPlot\n",
    "figure(1)\n",
    "plot(xs,real(psi),label=\"RK4\")\n",
    "plot(xs,real(psiexact),label=\"exact\")\n",
    "legend()\n",
    "\n",
    "figure(2)\n",
    "plot(xs,abs.(psi-psiexact),label=\"Diff\")\n",
    "legend()\n",
    "\n"
   ]
  },
  {
   "cell_type": "code",
   "execution_count": null,
   "metadata": {},
   "outputs": [],
   "source": [
    "function IMEX(NT,T,u0,Lap,β,tol,maxit)\n",
    "\n",
    "    return u\n",
    "end\n",
    "\n",
    "NT = 1000\n",
    "Tf = 1.0\n",
    "\n",
    "\n",
    "\n",
    "using PyPlot\n",
    "figure(1)\n",
    "plot(xs,real(psi),label=\"IMEX\")\n",
    "plot(xs,real(psiexact),label=\"exact\")\n",
    "legend()\n",
    "\n",
    "figure(2)\n",
    "plot(xs,abs.(psi-psiexact),label=\"Diff\")\n",
    "legend()\n",
    "\n"
   ]
  }
 ],
 "metadata": {
  "kernelspec": {
   "display_name": "Julia 0.7.0",
   "language": "julia",
   "name": "julia-0.7"
  },
  "language_info": {
   "file_extension": ".jl",
   "mimetype": "application/julia",
   "name": "julia",
   "version": "0.7.0"
  }
 },
 "nbformat": 4,
 "nbformat_minor": 1
}
