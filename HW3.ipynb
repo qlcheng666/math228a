{
 "cells": [
  {
   "cell_type": "markdown",
   "metadata": {},
   "source": [
    "## Code submission\n",
    "\n",
    "If you would like to use Jupyter (perhaps the easiest way, this replaces the old IJuliaNotebook), just submit the notebook file. Name it as p(Homework#).ipynb.  For instance, for homework 1, name it as p1.ipynb. I suggest everyone use the latest version of Julia (current stable version **v0.7.0**. Please **DO NOT** use v1.0.0 **unless you know what you are doing**).  \n",
    "\n",
    "If you use MATLAB or Julia/Python (not the notebook), name your main program as p(Homework#)_(Problem#).m. For instance, for homework 1, problem 2, name it as p1_2.m (or p1_2.jl,p1_2.py). \n",
    "\n",
    "For proof-related problems, type your solution using **LaTeX (no other format is accepted)**. You do not need to write down every step of the derivation, but make sure the logic is clear.  \n",
    "\n",
    "For implementation based problems, the problem description may not include all the information for the answer to be uniquely defined. For instance, your answer might depend on the choice of the mesh size. This is OK.\n",
    "\n",
    "E-mail the codes above, and **any supporting files** for the homework to bCourses\n",
    "\n",
    "You can **either** name it as\n",
    "\n",
    "lastname_firstname_1.ipynb (if you **only** have a notebook file)\n",
    "\n",
    "**or**\n",
    "\n",
    "lastname_firstname_1.zip (if you have **more than one** files)"
   ]
  },
  {
   "cell_type": "markdown",
   "metadata": {},
   "source": [
    "## Problem 1\n",
    "\n",
    "Show that the region of absolute stability of the 2-stage Milne's method\n",
    "\n",
    "$$u_{n+1}=u_{n-1}+h\\left(\\frac{1}{3}f_{n+1}+\\frac{4}{3}f_n+\\frac{1}{3}f_{n-1}\\right).$$\n",
    "\n",
    "is only along the imaginary axis."
   ]
  },
  {
   "cell_type": "code",
   "execution_count": null,
   "metadata": {
    "collapsed": true
   },
   "outputs": [],
   "source": []
  },
  {
   "cell_type": "markdown",
   "metadata": {},
   "source": [
    "## Problem 2\n",
    "\n",
    "\n",
    "Plot  the boundary of the stability region of the BDF4 method \n",
    "\n",
    "$$u_{n+4} -\\frac{48}{25} u_{n+3} + \\frac{36}{25} u_{n+2} - \\frac{16}{25} u_{n+1} + \\frac{3}{25} u_n = h \\frac{12}{25} f_{n+4}.$$\n",
    "\n",
    "Which side of the region is stable?"
   ]
  },
  {
   "cell_type": "code",
   "execution_count": null,
   "metadata": {
    "collapsed": true
   },
   "outputs": [],
   "source": []
  },
  {
   "cell_type": "markdown",
   "metadata": {},
   "source": [
    "## Problem 3\n",
    "\n",
    "For the inhomogeneous linear equation.\n",
    "\n",
    "$$u'(t)=\\lambda u(t) + a,\\quad a,u(t)\\in\\mathbb{R}.$$\n",
    "\n",
    "Consider the Runge-Kutta method with Butcher tableau $A\\in\\mathbb{R}^{r\\times r},b\\in\\mathbb{R}^{r},Re\\lambda<0$\n",
    "\n",
    "a) Prove that the numerical solution can be written as\n",
    "\n",
    "$$u_n = R(\\lambda h)^n u_0 + \\left[\\frac{R(\\lambda h)^n-1}{R(\\lambda h)-1}\\right] h b^T(I-zA)^{-1}e a.$$\n",
    "\n",
    "Here $e=(1,\\ldots,1)^T\\in\\mathbb{R}^{r}$,\n",
    "\n",
    "$$R(z)=1+zb^T(I-zA)^{-1}e.$$\n",
    "\n",
    "b) Assume $|R(z)|<1$, prove that \n",
    "\n",
    "$$\\lim_{n\\to\\infty} u_n=-\\frac{a}{\\lambda}.$$\n",
    "\n",
    "Verify that this limit is indeed the limit of the true solution i.e.\n",
    "\n",
    "$$\\lim_{t\\to+\\infty} u(t)=-\\frac{a}{\\lambda}.$$"
   ]
  },
  {
   "cell_type": "code",
   "execution_count": null,
   "metadata": {
    "collapsed": true
   },
   "outputs": [],
   "source": []
  },
  {
   "cell_type": "markdown",
   "metadata": {},
   "source": [
    "## Problem 4\n",
    "\n",
    "Solve the van der Pol equation on the interval $[0,T]$\n",
    "\n",
    "$$\n",
    "u''=((1-u^2)u'-u)/\\varepsilon.\n",
    "$$\n",
    "where $\\varepsilon=0.1,u(0)=2,u'(0)=0$,$T=6.0$.\n",
    "\n",
    "a) Implement a RK4 method named `rk4`. Choose the time step $h = 0.001$. Plot the solution $u(t)$ evaluated from the RK4 method. Save the number $u_{RK4}(T)$ which will be treated as the exact solution later.\n",
    "\n",
    "b) Implement a 2-step Gauss-Legendre method named `gl2fixpoint`. The Butcher tableau for this method is \n",
    "\n",
    "    A = [1.0/4.0                       1.0/4.0 - 1.0/6.0*sqrt(3)\n",
    "         1.0/4.0 + 1.0/6.0*sqrt(3)     1.0/4.0]\n",
    "    b = [0.5 0.5]\n",
    "\n",
    "   Choose $h=0.01$. Use fixed point iteration to solve the nonlinear equation. \n",
    "   \n",
    "   The function `gl2fixpoint` should return the solution, as well as the number of iterations for the fixed point iteration for each time step. Plot a figure with x axis being the discrete time step, and y axis being the number of iterations for each time step. Increase $h = 0.1$ and plot again the number of iterations for each time step to reach the same tolerance. \n",
    "   \n",
    "c) Take $h = T/N$, and $N$ increase from $2^6$ to $2^{11}$. Compare the error at the end point $|u_{GL2}(T)-u_{RK4}(T)|$. Demonstrate that the 2-step Gauss-Legendre method is of order 4.   \n"
   ]
  },
  {
   "cell_type": "code",
   "execution_count": null,
   "metadata": {
    "collapsed": true
   },
   "outputs": [],
   "source": [
    "using LinearAlgebra\n",
    "\n",
    "\n",
    "# RK4\n",
    "function rk4()\n",
    "\n",
    "    return u\n",
    "end\n",
    "\n",
    "using PyPlot\n",
    "\n",
    "##############################\n",
    "T = 6.0\n",
    "dt = 0.001\n",
    "N = round(Int64,T/dt)\n",
    "t = collect(0:N)*dt\n",
    "eps=0.1\n",
    "u0 = [2.0,0.0]\n",
    "\n",
    "# RK4\n",
    "urk4 = rk4(N,T,u0,eps)\n",
    "\n",
    "figure(1,figsize=(5,5))\n",
    "plot(t,vec(urk4[1,:]),\"r-\")\n",
    "xlabel(L\"t\")\n",
    "ylabel(L\"u(t)\")"
   ]
  },
  {
   "cell_type": "code",
   "execution_count": null,
   "metadata": {
    "collapsed": true
   },
   "outputs": [],
   "source": [
    "# Gauss-Legendre 2-step. Fixed point formulation\n",
    "\n",
    "function gl2fixpoint()\n",
    " \n",
    "end\n"
   ]
  }
 ],
 "metadata": {
  "kernelspec": {
   "display_name": "Julia 0.7.0",
   "language": "julia",
   "name": "julia-0.7"
  },
  "language_info": {
   "file_extension": ".jl",
   "mimetype": "application/julia",
   "name": "julia",
   "version": "0.7.0"
  }
 },
 "nbformat": 4,
 "nbformat_minor": 1
}
